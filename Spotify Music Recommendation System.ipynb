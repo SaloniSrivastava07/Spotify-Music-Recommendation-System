{
 "cells": [
  {
   "cell_type": "markdown",
   "metadata": {},
   "source": [
    "# ---------------------Spotify Music Recommendation System----------------------------"
   ]
  },
  {
   "cell_type": "markdown",
   "metadata": {},
   "source": [
    "__Project Overview__                                                                                                             \n",
    "The Spotify Music Recommendation System is designed to suggest similar songs to a user’s input track by combining musical content analysis and song popularity. By utilizing both content-based filtering and a hybrid approach that incorporates song popularity, the system delivers personalized recommendations. This approach ensures that users receive recommendations based on the characteristics of the music they enjoy, while also factoring in the popularity of tracks, ensuring that the recommendations are relevant and widely appreciated.\n",
    "\n",
    "__Project Workflow__\n",
    "\n",
    "__1. Spotify API Authentication__                                                                                               \n",
    "The first step in building the recommendation system is to access Spotify's music data through their API. Spotify requires applications to authenticate using Client ID and Client Secret to make authorized data requests.                                \n",
    "Goal: The system needs an access token to fetch music data such as track names, artists, albums, release dates, popularity scores, and musical features from Spotify's extensive database.                                                                 \n",
    "Result: After successful authentication, the system can make authorized requests to Spotify’s API, enabling the retrieval of detailed song information required for the recommendation engine.\n",
    "\n",
    "__2. Data Retrieval from Spotify__                                                                                               \n",
    "Once the system is authenticated, it retrieves comprehensive data for songs from Spotify. The relevant attributes for each song include:                                                                                                                         \n",
    "__Track Name__: The name of the song.                                                                                           \n",
    "__Artists__: The artists who performed the song.                                                                                 \n",
    "__Album Name__: The album in which the song was released.                                                                       \n",
    "__Release Date__: The date when the song or album was published.                                                                 \n",
    "__Popularity__: A numerical score assigned by Spotify, which reflects the song’s popularity based on its number of plays and user engagement.                                                                                                                 \n",
    "\n",
    "The system also retrieves important musical features that help define the characteristics of each song. These features include:  \n",
    "__Danceability__: Reflects how suitable the track is for dancing based on tempo and rhythm stability.                           \n",
    "__Energy__: Measures the intensity and activity of a song.                                                                       \n",
    "__Tempo__: The speed of the song.                                                                                               \n",
    "__Valence__: A score indicating the musical positivity or happiness of a track.                                                 \n",
    "And more...                                                                                                                     \n",
    "These musical features form the foundation of the content-based recommendation process.                                         \n",
    "\n",
    "__3. Content-Based Recommendation Engine__                                                                                      \n",
    "The recommendation engine primarily uses content-based filtering, which suggests songs that are similar to a user's input song based on their musical features. The similarity between tracks is measured by comparing these features to identify songs that \"sound\" alike.                                                                                                                  \n",
    "How It Works: When a user inputs a song, the system extracts its musical features and compares them with all other songs in the dataset. The songs that share the most similar musical traits are then selected as recommendations.                             \n",
    "Result: The top recommendations consist of songs that closely match the input song's musical style, ensuring that users receive suggestions that align with their taste.                                                                                        \n",
    "\n",
    "__4. Hybrid Recommendation System__                                                                                             \n",
    "To further enhance the recommendation quality, the system incorporates a hybrid recommendation model. This hybrid model merges content-based filtering with song popularity, ensuring that the recommended songs are not only musically similar but also have significant popularity.                                                                                                         \n",
    "Popularity Weighting: The hybrid approach adjusts the recommendations by factoring in the popularity of each song. Popularity scores are weighted based on the song’s release date, allowing the system to favor newer or older songs depending on user preference or general trends.                                                                                                   \n",
    "Balanced Recommendations: The hybrid system blends content-based similarity with popularity data, making the final recommendations more relevant and well-rounded. This ensures that users are presented with songs that are both similar to their input and widely liked by other listeners.                                                                                      \n",
    "\n",
    "__5. User Input and System Output__                                                                                             \n",
    "The system allows users to input the name of a song, and it returns a list of recommended songs based on the user’s musical preferences. Each recommended song is accompanied by key details such as:Track Name, Artists, Album Name, Release Date and Popularity Score.                                                                                                               \n"
   ]
  },
  {
   "cell_type": "markdown",
   "metadata": {},
   "source": [
    "# ----------------------------------------------CODE----------------------------------------------------"
   ]
  },
  {
   "cell_type": "markdown",
   "metadata": {},
   "source": [
    "# To obtain an access token from the Spotify API"
   ]
  },
  {
   "cell_type": "code",
   "execution_count": 3,
   "metadata": {},
   "outputs": [
    {
     "name": "stdout",
     "output_type": "stream",
     "text": [
      "Access token obtained successfully.\n",
      "Now, we can make authorized requests to retrieve music data, which is fundamental for building a music recommendation system.\n"
     ]
    }
   ],
   "source": [
    "import requests     #used for making HTTP requests \n",
    "import base64       #used for encoding and decoding data in Base64 format\n",
    "\n",
    "# Replace with your own Client ID and Client Secret\n",
    "client_id = '24f4fc17e73346d695f513ad749da0d8'     #Identifies the application\n",
    "client_secret = 'bf1c85de7c764795bda229fed19d1ac1' #Used for authentication\n",
    "\n",
    "# Combining and Base64 encode the client ID and client secret\n",
    "client_credentials = f\"{client_id}:{client_secret}\"  #Combines \n",
    "client_credentials_base64 = base64.b64encode(client_credentials.encode())  #Encodes the combined credentials\n",
    "\n",
    "# Request the access token\n",
    "token_url = 'https://accounts.spotify.com/api/token'\n",
    "headers = {\n",
    "    'Authorization': f'Basic {client_credentials_base64.decode()}'     #Contains the HTTP headers\n",
    "}\n",
    "data = {\n",
    "    'grant_type': 'client_credentials'       #It is done to request an access token \n",
    "}\n",
    "response = requests.post(token_url, data=data, headers=headers) #Sends the POST request to the token_url with the specified headers and data, and stores the response\n",
    "\n",
    "if response.status_code == 200: #200= HTTP OK\n",
    "    access_token = response.json()['access_token']   #Extracts the access token from the JSON response body\n",
    "    print(\"Access token obtained successfully.\\nNow, we can make authorized requests to retrieve music data, which is fundamental for building a music recommendation system.\")\n",
    "else:\n",
    "    print(\"Error obtaining access token.\")\n",
    "    exit()"
   ]
  },
  {
   "cell_type": "markdown",
   "metadata": {},
   "source": [
    "# Get music data from Spotify"
   ]
  },
  {
   "cell_type": "markdown",
   "metadata": {},
   "source": [
    "Now, we will be creating a function __to get and process music data__ from any playlist on Spotify. \n",
    "For this task, first we will be installing the __\"Spotipy\"__ library, which is a Python library providing access to Spotify’s web API. "
   ]
  },
  {
   "cell_type": "markdown",
   "metadata": {},
   "source": [
    "__To install the python Library use the mentioned command  :  !pip install spotipy__"
   ]
  },
  {
   "cell_type": "code",
   "execution_count": 4,
   "metadata": {},
   "outputs": [
    {
     "name": "stderr",
     "output_type": "stream",
     "text": [
      "C:\\Users\\salon\\anaconda3\\lib\\site-packages\\pandas\\core\\computation\\expressions.py:20: UserWarning: Pandas requires version '2.7.3' or newer of 'numexpr' (version '2.7.1' currently installed).\n",
      "  from pandas.core.computation.check import NUMEXPR_INSTALLED\n"
     ]
    }
   ],
   "source": [
    "#Importing Python Libraries\n",
    "import pandas as pd   #Used for for data manipulation and analysis\n",
    "import spotipy        #provides a Python client for the Spotify Web API\n",
    "from spotipy.oauth2 import SpotifyOAuth  #Used for handling OAuth authentication with Spotify"
   ]
  },
  {
   "cell_type": "code",
   "execution_count": 5,
   "metadata": {},
   "outputs": [],
   "source": [
    "#Defining Function\n",
    "def get_playlist_data(playlist_id, client_id, client_secret, redirect_uri):\n",
    "    \n",
    "    # Set up Spotipy with SpotifyOAuth\n",
    "    sp = spotipy.Spotify(auth_manager=SpotifyOAuth(\n",
    "        client_id=client_id,\n",
    "        client_secret=client_secret,\n",
    "        redirect_uri=redirect_uri,\n",
    "        scope=\"playlist-read-private\" \n",
    "    ))\n",
    "\n",
    "    # Get the tracks from the playlist\n",
    "    tracks = sp.playlist_tracks(playlist_id, fields='items(track(id, name, artists, album(id, name)))')['items']\n",
    "\n",
    "    # Extract relevant information and store in a list of dictionaries\n",
    "    music_data = []\n",
    "    for track_info in tracks:\n",
    "        track = track_info['track']\n",
    "        artists = ', '.join(artist['name'] for artist in track['artists']) #Creates a comma-separated string of artist names for each track\n",
    "\n",
    "        # Retrieveing audio features, album information and track information\n",
    "        audio_features = sp.audio_features(track['id'])[0]\n",
    "        album_info = sp.album(track['album']['id'])\n",
    "        track_info = sp.track(track['id'])\n",
    "\n",
    "        # Add relevant track data in music_data list\n",
    "        music_data.append({\n",
    "            'Track Name': track['name'],\n",
    "            'Artists': artists,\n",
    "            'Album Name': track['album']['name'],\n",
    "            'Popularity': track_info['popularity'],\n",
    "            'Release Date': album_info['release_date'],\n",
    "            'Duration (ms)': audio_features['duration_ms'],\n",
    "            'Danceability': audio_features['danceability'],\n",
    "            'Energy': audio_features['energy'],\n",
    "            'Tempo': audio_features['tempo'],\n",
    "            #Can Add more attributes as needed\n",
    "        })\n",
    "\n",
    "    # Create a pandas DataFrame from the list of dictionaries\n",
    "    return pd.DataFrame(music_data)\n"
   ]
  },
  {
   "cell_type": "code",
   "execution_count": 6,
   "metadata": {},
   "outputs": [
    {
     "name": "stdout",
     "output_type": "stream",
     "text": [
      "                                           Track Name  \\\n",
      "0                                              august   \n",
      "1                     I Can Do It With a Broken Heart   \n",
      "2                      Blank Space (Taylor's Version)   \n",
      "3                       Fortnight (feat. Post Malone)   \n",
      "4                       Love Story (Taylor’s Version)   \n",
      "..                                                ...   \n",
      "95                       Last Kiss (Taylor's Version)   \n",
      "96  Delicate - Recorded at The Tracking Room Nashv...   \n",
      "97                                              Paris   \n",
      "98  Message In A Bottle (Taylor's Version) (From T...   \n",
      "99                       This Love (Taylor’s Version)   \n",
      "\n",
      "                      Artists                     Album Name  Popularity  \\\n",
      "0                Taylor Swift                       folklore          87   \n",
      "1                Taylor Swift  THE TORTURED POETS DEPARTMENT          86   \n",
      "2                Taylor Swift        1989 (Taylor's Version)          79   \n",
      "3   Taylor Swift, Post Malone  THE TORTURED POETS DEPARTMENT          89   \n",
      "4                Taylor Swift  Love Story (Taylor’s Version)          79   \n",
      "..                        ...                            ...         ...   \n",
      "95               Taylor Swift   Speak Now (Taylor's Version)          68   \n",
      "96               Taylor Swift                Spotify Singles          57   \n",
      "97               Taylor Swift        Midnights (3am Edition)          65   \n",
      "98               Taylor Swift         Red (Taylor's Version)          70   \n",
      "99               Taylor Swift   This Love (Taylor’s Version)          66   \n",
      "\n",
      "   Release Date  Duration (ms)  Danceability  Energy    Tempo  \n",
      "0    2020-07-24         261923         0.532   0.623   89.937  \n",
      "1    2024-04-18         218005         0.701   0.751  129.994  \n",
      "2    2023-10-26         231833         0.732   0.719   96.035  \n",
      "3    2024-04-18         228965         0.504   0.386  192.004  \n",
      "4    2021-02-12         235767         0.626   0.790  119.082  \n",
      "..          ...            ...           ...     ...      ...  \n",
      "95   2023-07-07         369120         0.557   0.362   79.573  \n",
      "96   2018-04-13         228461         0.664   0.447   90.976  \n",
      "97   2022-10-22         196259         0.703   0.518  110.940  \n",
      "98   2021-11-12         225960         0.622   0.791  115.915  \n",
      "99   2022-05-06         250100         0.470   0.494  144.039  \n",
      "\n",
      "[100 rows x 9 columns]\n"
     ]
    }
   ],
   "source": [
    "#Calling 'get_playlist_data' function to collect music data from the given playlist on Spotify:\n",
    "playlist_id = '37i9dQZF1DX5KpP2LN299J'\n",
    "client_id = '24f4fc17e73346d695f513ad749da0d8'\n",
    "client_secret = 'bf1c85de7c764795bda229fed19d1ac1'\n",
    "redirect_uri = 'https://statso.io/'\n",
    "\n",
    "# Call the function to get the music data and store it in a DataFrame\n",
    "music_df = get_playlist_data(playlist_id, client_id, client_secret, redirect_uri)\n",
    "\n",
    "# Display the DataFrame\n",
    "print(music_df)\n"
   ]
  },
  {
   "cell_type": "code",
   "execution_count": 7,
   "metadata": {},
   "outputs": [
    {
     "name": "stdout",
     "output_type": "stream",
     "text": [
      "Track Name       0\n",
      "Artists          0\n",
      "Album Name       0\n",
      "Popularity       0\n",
      "Release Date     0\n",
      "Duration (ms)    0\n",
      "Danceability     0\n",
      "Energy           0\n",
      "Tempo            0\n",
      "dtype: int64\n"
     ]
    }
   ],
   "source": [
    "#To check if the data has some NULL values\n",
    "print(music_df.isnull().sum())"
   ]
  },
  {
   "cell_type": "markdown",
   "metadata": {},
   "source": [
    "# Music Recommendation System"
   ]
  },
  {
   "cell_type": "markdown",
   "metadata": {},
   "source": [
    " Its a HYBRID RECOMMENDATION SYSTEM.                                          The hybrid approach aims to provide more personalized and relevant recommendations by considering both the content similarity of songs and their weighted popularity, which is basically the combination of two appproches.\n",
    " _____________________________________________________________________________\n",
    " Approach 1: In this the approach will be based on recommending music based on              __music audio features__.                                            \n",
    " Approach 2:In this the approach will be based on recommending music based on               __weighted popularity__."
   ]
  },
  {
   "cell_type": "markdown",
   "metadata": {},
   "source": [
    "# Importing Python Libraries"
   ]
  },
  {
   "cell_type": "code",
   "execution_count": 8,
   "metadata": {},
   "outputs": [],
   "source": [
    "import pandas as pd    #Used for data manipulation and analysis\n",
    "import numpy as np     #Used for for numerical operations\n",
    "from sklearn.model_selection import train_test_split  #Used for splitting data into training and testing sets\n",
    "from sklearn.preprocessing import MinMaxScaler        #Used for scaling features to a given range, usually [0, 1]\n",
    "from datetime import datetime                   #Used for handling date and time\n",
    "from sklearn.metrics.pairwise import cosine_similarity  #Used for calculating the cosine similarity between vectors\n",
    "\n",
    "data=music_df"
   ]
  },
  {
   "cell_type": "markdown",
   "metadata": {},
   "source": [
    "__Approach 1__"
   ]
  },
  {
   "cell_type": "markdown",
   "metadata": {},
   "source": [
    "In this Approach, we will define a function in which we will calculate the similarity scores between the audio features of the input song and all other songs in the dataset\"data\". It uses __cosine similarity__, a common measure used in __content-based filtering__. The cosine_similarity function from scikit-learn is employed to compute these similarity scores.Here, it will measure how close the input song is to every other song in the dataset, based on features."
   ]
  },
  {
   "cell_type": "code",
   "execution_count": 9,
   "metadata": {},
   "outputs": [],
   "source": [
    "# Defining Function to get 5 content-based recommendations based on music features\n",
    "def content_based_recommendations(input_song_name, num_recommendations=5): \n",
    "    \n",
    "    if input_song_name not in music_df['Track Name'].values:\n",
    "        print(f\"'{input_song_name}' not found in the dataset. Please enter a valid song name.\")\n",
    "        return\n",
    "\n",
    "    # Get the index of the input song in the music DataFrame\n",
    "    input_song_index = music_df[music_df['Track Name'] == input_song_name].index[0]\n",
    "\n",
    "    # Calculate the similarity scores based on music features (cosine similarity)\n",
    "    # The cosine_similarity function takes the scaled features of the input song and compares it with the scaled features of all songs\n",
    "    similarity_scores = cosine_similarity([music_features_scaled[input_song_index]], music_features_scaled)\n",
    "\n",
    "    # Get the indices of the most similar songs\n",
    "    similar_song_indices = similarity_scores.argsort()[0][::-1][1:num_recommendations + 1]\n",
    "    \n",
    "    #similarity_scores.argsort() returns the indices that would sort the similarity scores.\n",
    "    #[0] selects the first row of similarity scores (since there is only one input song).\n",
    "    #[::-1] reverses the list to get songs in descending order of similarity.(Top Recommendation will be at first)\n",
    "    #[1:num_recommendations + 1] slices the list to get the top num_recommendations(5)songs (excluding the input song itself).\n",
    "\n",
    "    # Get the names of the most similar songs based on content-based filtering\n",
    "    content_based_recommendations = music_df.iloc[similar_song_indices][['Track Name', 'Artists', 'Album Name', 'Release Date', 'Popularity']]\n",
    "\n",
    "    return content_based_recommendations"
   ]
  },
  {
   "cell_type": "markdown",
   "metadata": {},
   "source": [
    "__Approach 2__"
   ]
  },
  {
   "cell_type": "markdown",
   "metadata": {},
   "source": [
    "While providing music recommendations to users, it is important to recommend the latest releases. For this, we need to give more weight to the latest releases in the recommendations.For which we will use Approach 2.\n",
    "The idea behind this approach, we will define a function where, the __\"weight decreases\"__ when the time span between the release date and today increases, whcih means more recent releases will have a higher weight, while older releases will have a lower weight. \n",
    "As a result, when combining this weighted popularity score with other factors in a recommendation system, __recent tracks will have a more significant impact on the final recommendations__, reflecting user's potential interest in newer music."
   ]
  },
  {
   "cell_type": "code",
   "execution_count": 10,
   "metadata": {},
   "outputs": [],
   "source": [
    "# Defining Function to calculate weighted popularity scores based on release date\n",
    "def calculate_weighted_popularity(release_date):\n",
    "    # Convert the release date to datetime object\n",
    "    release_date = datetime.strptime(release_date, '%Y-%m-%d') #This will allow to perform the arthimatic operations on dates   \n",
    "    # Calculate the time span between release date and today's date\n",
    "    time_span = datetime.now() - release_date\n",
    "\n",
    "    # Calculate the weighted popularity score based on time span (e.g., more recent releases have higher weight)\n",
    "    weight = 1 / (time_span.days + 1) #Adding 1 to ensure that the weight is never 0\n",
    "    return weight"
   ]
  },
  {
   "cell_type": "code",
   "execution_count": 11,
   "metadata": {},
   "outputs": [],
   "source": [
    "# Normalize the music features using Min-Max scaling\n",
    "scaler = MinMaxScaler()\n",
    "music_features = music_df[['Danceability', 'Energy', 'Tempo']].values\n",
    "music_features_scaled = scaler.fit_transform(music_features) #fits the scaler and then applies the transformation to scale"
   ]
  },
  {
   "cell_type": "markdown",
   "metadata": {},
   "source": [
    "# Hybrid Approach "
   ]
  },
  {
   "cell_type": "markdown",
   "metadata": {},
   "source": [
    "In the Hybrid Approach, we will define a function which will retrieve the content based recommendation and the popularity score from the 'music_df' DataFrame.Then, it will __calculate the weighted popularity score__ using popularity score and calculate_weighted_popularity function (previously defined) based on the release date of the input song. Also, The __alpha__ parameter will control the relative importance of content-based and popularity-based recommendations.\n",
    "Further,This function will __combine__ the content-based recommendations with the input song’s information (track name, artists, album name, release date, and popularity) and its weighted popularity score. "
   ]
  },
  {
   "cell_type": "code",
   "execution_count": 12,
   "metadata": {},
   "outputs": [],
   "source": [
    "#Defining the function for Hybrid Recommendation \n",
    "def hybrid_recommendations(input_song_name, num_recommendations=5, alpha=0.5):\n",
    "    if input_song_name not in music_df['Track Name'].values:\n",
    "        print(f\"'{input_song_name}' not found in the dataset. Please enter a valid song name.\")\n",
    "        return\n",
    "    #Reteriving the Content Based Recommendations and Popularity score \n",
    "    content_based_rec = content_based_recommendations(input_song_name, num_recommendations)\n",
    "\n",
    "    popularity_score = music_df.loc[music_df['Track Name'] == input_song_name, 'Popularity'].values[0]\n",
    "    \n",
    "    #Calulating Weighted Popularity score\n",
    "    weighted_popularity_score = popularity_score * calculate_weighted_popularity(\n",
    "        music_df.loc[music_df['Track Name'] == input_song_name, 'Release Date'].values[0]\n",
    "    )\n",
    "    \n",
    "    #Creating a dataframe where popularity of the input song is replaced by weighted popularity score\n",
    "    new_entry = pd.DataFrame({\n",
    "        'Track Name': [input_song_name],\n",
    "        'Artists': [music_df.loc[music_df['Track Name'] == input_song_name, 'Artists'].values[0]],\n",
    "        'Album Name': [music_df.loc[music_df['Track Name'] == input_song_name, 'Album Name'].values[0]],\n",
    "        'Release Date': [music_df.loc[music_df['Track Name'] == input_song_name, 'Release Date'].values[0]],\n",
    "        'Popularity': [weighted_popularity_score]\n",
    "    })\n",
    "\n",
    "    #Combines content-based(content_based_rec df) and popularity-based data(new_entry df)\n",
    "    hybrid_recommendations = pd.concat([content_based_rec, new_entry], ignore_index=True)\n",
    "    \n",
    "    #Sorting the Recommendations based on its popularity\n",
    "    hybrid_recommendations = hybrid_recommendations.sort_values(by='Popularity', ascending=False)\n",
    "    \n",
    "    #Removing the Input song from the Recommendations\n",
    "    hybrid_recommendations = hybrid_recommendations[hybrid_recommendations['Track Name'] != input_song_name]\n",
    "\n",
    "    return hybrid_recommendations"
   ]
  },
  {
   "cell_type": "code",
   "execution_count": 13,
   "metadata": {},
   "outputs": [
    {
     "name": "stdout",
     "output_type": "stream",
     "text": [
      "Name of the Tracks in the Playlist\n",
      "\n",
      "august\n",
      "I Can Do It With a Broken Heart\n",
      "Blank Space (Taylor's Version)\n",
      "Fortnight (feat. Post Malone)\n",
      "Love Story (Taylor’s Version)\n",
      "Cruel Summer\n",
      "I Knew You Were Trouble (Taylor's Version)\n",
      "Down Bad\n",
      "You Belong With Me (Taylor’s Version)\n",
      "Bad Blood (feat. Kendrick Lamar) (Taylor's Version)\n",
      "Lover\n",
      "Who’s Afraid of Little Old Me?\n",
      "Anti-Hero\n",
      "...Ready For It?\n",
      "Style (Taylor's Version)\n",
      "But Daddy I Love Him\n",
      "cardigan\n",
      "loml\n",
      "my tears ricochet\n",
      "Guilty as Sin?\n",
      "willow\n",
      "Florida!!! (feat. Florence + The Machine)\n",
      "The Prophecy\n",
      "So Long, London\n",
      "Cassandra\n",
      "Karma\n",
      "My Boy Only Breaks His Favorite Toys\n",
      "Is It Over Now? (Taylor's Version) (From The Vault)\n",
      "How Did It End?\n",
      "The Tortured Poets Department\n",
      "Don’t Blame Me\n",
      "You’re Losing Me (From The Vault)\n",
      "us. (feat. Taylor Swift)\n",
      "The Alchemy\n",
      "Look What You Made Me Do\n",
      "Say Don't Go (Taylor's Version) (From The Vault)\n",
      "Wildest Dreams (Taylor's Version)\n",
      "Enchanted (Taylor's Version)\n",
      "You Need To Calm Down\n",
      "\"Slut!\" (Taylor's Version) (From The Vault)\n",
      "New Romantics (Taylor's Version)\n",
      "Lavender Haze\n",
      "We Are Never Ever Getting Back Together (Taylor's Version)\n",
      "Out Of The Woods (Taylor's Version)\n",
      "Mine (Taylor's Version)\n",
      "I Don’t Wanna Live Forever (Fifty Shades Darker)\n",
      "Now That We Don't Talk (Taylor's Version) (From The Vault)\n",
      "All Of The Girls You Loved Before\n",
      "Delicate\n",
      "I Can See You (Taylor’s Version) (From The Vault)\n",
      "Shake It Off (Taylor's Version)\n",
      "Midnight Rain\n",
      "thanK you aIMee\n",
      "22 (Taylor's Version)\n",
      "Back To December (Taylor's Version)\n",
      "All Too Well (10 Minute Version) (Taylor's Version) (From The Vault)\n",
      "Welcome To New York (Taylor's Version)\n",
      "Snow On The Beach (feat. More Lana Del Rey)\n",
      "Mean (Taylor's Version)\n",
      "Clean (Taylor's Version)\n",
      "Hits Different\n",
      "Getaway Car\n",
      "All You Had To Do Was Stay (Taylor's Version)\n",
      "Bejeweled\n",
      "Paper Rings\n",
      "I Wish You Would (Taylor's Version)\n",
      "Dear John (Taylor's Version)\n",
      "You're On Your Own, Kid\n",
      "The Man\n",
      "Better Than Revenge (Taylor's Version)\n",
      "If This Was A Movie (Taylor’s Version)\n",
      "Suburban Legends (Taylor's Version) (From The Vault)\n",
      "Foolish One (Taylor’s Version) (From The Vault)\n",
      "Maroon\n",
      "When Emma Falls in Love (Taylor’s Version) (From The Vault)\n",
      "Vigilante Shit\n",
      "Electric Touch (feat. Fall Out Boy) (Taylor’s Version) (From The Vault)\n",
      "Mastermind\n",
      "Mr. Perfectly Fine (Taylor’s Version) (From The Vault)\n",
      "Long Live (Taylor's Version)\n",
      "The Great War\n",
      "Safe & Sound (feat. Joy Williams and John Paul White) (Taylor’s Version)\n",
      "Timeless (Taylor’s Version) (From The Vault)\n",
      "The Way I Loved You (Taylor’s Version)\n",
      "Gorgeous\n",
      "The Story Of Us (Taylor's Version)\n",
      "Question...?\n",
      "champagne problems\n",
      "Castles Crumbling (feat. Hayley Williams) (Taylor’s Version) (From The Vault)\n",
      "Eyes Open (Taylor's Version)\n",
      "Ours (Taylor’s Version)\n",
      "Sweet Nothing\n",
      "Sparks Fly (Taylor’s Version)\n",
      "exile (feat. Bon Iver)\n",
      "Red\n",
      "Last Kiss (Taylor's Version)\n",
      "Delicate - Recorded at The Tracking Room Nashville\n",
      "Paris\n",
      "Message In A Bottle (Taylor's Version) (From The Vault)\n",
      "This Love (Taylor’s Version)\n"
     ]
    }
   ],
   "source": [
    "# To list all the tracks in the playlist\n",
    "print(\"Name of the Tracks in the Playlist\\n\")\n",
    "track_names=data['Track Name'].tolist()\n",
    "for track in track_names:\n",
    "     print(track)"
   ]
  },
  {
   "cell_type": "markdown",
   "metadata": {},
   "source": [
    "# __Spotify Music Recommendation System__"
   ]
  },
  {
   "cell_type": "markdown",
   "metadata": {},
   "source": [
    "Now, Our __Spotify Music Recommendation System__ is ready to recommend the Top 5 songs for the given song name from the spotify's playlist based on its music feature and popularity."
   ]
  },
  {
   "cell_type": "code",
   "execution_count": 14,
   "metadata": {},
   "outputs": [
    {
     "name": "stdout",
     "output_type": "stream",
     "text": [
      "Enter the Song Name:Gorgeous\n",
      "Hybrid recommended songs for 'Gorgeous':\n",
      "\n",
      "\n",
      "                                          Track Name       Artists  \\\n",
      "3        \"Slut!\" (Taylor's Version) (From The Vault)  Taylor Swift   \n",
      "4                                      Lavender Haze  Taylor Swift   \n",
      "2                  All Of The Girls You Loved Before  Taylor Swift   \n",
      "0                       Last Kiss (Taylor's Version)  Taylor Swift   \n",
      "1  Delicate - Recorded at The Tracking Room Nashv...  Taylor Swift   \n",
      "\n",
      "                          Album Name Release Date  Popularity  \n",
      "3            1989 (Taylor's Version)   2023-10-26        76.0  \n",
      "4                          Midnights   2022-10-21        76.0  \n",
      "2  All Of The Girls You Loved Before   2019-08-23        75.0  \n",
      "0       Speak Now (Taylor's Version)   2023-07-07        68.0  \n",
      "1                    Spotify Singles   2018-04-13        57.0  \n"
     ]
    }
   ],
   "source": [
    "#Enter the Song Name for which You need the recommendations\n",
    "input_song_name=input(\"Enter the Song Name:\")\n",
    "\n",
    "#Calling Hybrid Recommendation Function to Recommend the songs\n",
    "recommendations = hybrid_recommendations(input_song_name, num_recommendations=5)\n",
    "print(f\"Hybrid recommended songs for '{input_song_name}':\")\n",
    "print(\"\\n\")\n",
    "print(recommendations)"
   ]
  },
  {
   "cell_type": "markdown",
   "metadata": {},
   "source": [
    "__Conclusion__                                                                                                                  \n",
    "The Spotify Music Recommendation System offers an advanced and user-centric approach to music recommendations. By combining content-based filtering (which ensures musical similarity) with a hybrid model that incorporates song popularity, the system delivers high-quality, personalized suggestions. Whether users are seeking lesser-known tracks that share their favorite song’s sound or popular hits within the same style, this system provides a well-rounded set of recommendations tailored to each user's preferences.\n"
   ]
  }
 ],
 "metadata": {
  "kernelspec": {
   "display_name": "Python 3",
   "language": "python",
   "name": "python3"
  },
  "language_info": {
   "codemirror_mode": {
    "name": "ipython",
    "version": 3
   },
   "file_extension": ".py",
   "mimetype": "text/x-python",
   "name": "python",
   "nbconvert_exporter": "python",
   "pygments_lexer": "ipython3",
   "version": "3.8.3"
  }
 },
 "nbformat": 4,
 "nbformat_minor": 4
}
